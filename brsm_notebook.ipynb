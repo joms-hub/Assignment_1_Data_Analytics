{
  "cells": [
    {
      "cell_type": "markdown",
      "metadata": {
        "id": "Uuxmwrnp1bMK"
      },
      "source": [
        "### **A Python Implementation of the Balanced Risk Set Matching Procedures**\n",
        "### **1. Background of the Study**\n",
        "\n",
        "Measuring the impact of medical treatments in clinical research is challenging because patients receiving treatment often have different underlying health conditions than those who do not. The gold standard for evaluating treatment effects is a randomized clinical trial, but in many situations, such trials are impractical due to ethical or logistical constraints. As a result, researchers frequently turn to observational studies, which analyze real-world patient data. However, such studies can introduce bias if the treated and untreated patient groups are not comparable.\n",
        "\n",
        "This research presents an approach called Balanced Risk Set Matching (BRSM), designed to improve the validity of observational studies by ensuring fair comparisons between patients who undergo treatment and those who do not. Specifically, the method evaluates the effectiveness of cystoscopy and hydrodistention, a medical procedure used to treat interstitial cystitis (IC), a chronic bladder disorder. Since patients with IC receive treatment in response to symptom worsening, it is crucial to construct balanced treatment and control groups for a valid comparison.\n",
        "\n",
        "\n",
        "### **2. Objective of the Study**\n",
        "The main goals of this research are as follows:\n",
        "\n",
        "\n",
        "*   **Develop a structured matching process** that pairs treated patients with untreated individuals who exhibit similar symptom histories.\n",
        "*   **Enhance the reliability of observational studies** by reducing bias and balancing symptom severity distributions in the matched groups.\n",
        "*   **Implement an efficient optimization algorithm** using network flow techniques and integer programming to create well-matched pairs.\n",
        "*   **Assess treatment effectiveness** using statistical tools, including the Wilcoxon signed-rank test, to measure symptom changes.\n",
        "*  **Conduct sensitivity analysis** to determine how small, unmeasured differences between groups might impact the study’s conclusions.\n",
        "\n",
        "\n",
        "## **3. Procedures**\n",
        "The **Balanced Risk Set Matching (BRSM)** methodology consists of the following steps:\n",
        "\n",
        "1. **Risk Set Matching:** When a patient undergoes treatment, they are paired with another patient who has not yet received treatment but shares a similar medical history. This step ensures that treatment comparisons are based on similar baseline conditions.\n",
        "2. **Optimized Pairing via Integer Programming:** The methodology applies mathematical optimization techniques, such as **integer programming** and **minimum-cost flow networks**, to ensure that matched groups maintain similar distributions of symptom severity.\n",
        "3. **Statistical Evaluation:** The study uses statistical tests, including the **Wilcoxon signed-rank test**, to examine differences in symptom progression between the treated and control groups.\n",
        "4. **Sensitivity Analysis:** Since observational studies are susceptible to unmeasured variables, sensitivity tests are conducted to determine how hidden biases could influence the findings.\n",
        "\n",
        "By following this structured approach, **Balanced Risk Set Matching** enhances the credibility of observational research and allows for more reliable comparisons between treated and untreated patients, leading to results that better approximate those of randomized controlled trials.\n",
        "\n",
        "---\n",
        "\n",
        "\n",
        "## **4. Summary of the Process**"
      ]
    },
    {
      "cell_type": "markdown",
      "metadata": {
        "id": "khsFCglm1bMQ"
      },
      "source": [
        "# **Balanced Risk Set Matching**\n",
        "\n",
        "## **1. Introduction**\n",
        "\n",
        "When studying the effects of medical treatments, researchers often face a major challenge: how to fairly compare patients who receive treatment with those who do not. Unlike **randomized clinical trials**, where patients are randomly assigned to treatment or control groups, **observational studies** rely on existing patient data. This can lead to bias because patients who receive treatment may have different health conditions than those who do not.\n",
        "\n",
        "**Balanced Risk Set Matching (BRSM)** is a method designed to tackle this issue. It helps create fair comparisons by matching treated patients with similar untreated individuals, ensuring the groups are as comparable as possible. This technique was specifically developed to evaluate the effects of **cystoscopy and hydrodistention** as a treatment for **interstitial cystitis (IC)**, a chronic bladder condition. Since IC treatments are often given in response to worsening symptoms, BRSM accounts for this factor, providing a clearer picture of how effective the treatment really is.\n",
        "\n",
        "---\n",
        "\n",
        "## **2. How BRSM Works**\n",
        "\n",
        "The BRSM process involves four key steps:\n",
        "\n",
        "### **Step 1: Risk Set Matching**\n",
        "- Whenever a patient receives treatment at a certain time, they are matched with another patient who has not yet received treatment but has a similar history of symptoms.\n",
        "- This step ensures that comparisons are based on **similar baseline conditions**, preventing future data from distorting the results.\n",
        "\n",
        "### **Step 2: Optimized Matching Using Integer Programming**\n",
        "- To ensure that matched patients have the most similar symptom profiles, BRSM uses **integer programming** and **network flow optimization** techniques.\n",
        "- A **penalty function** is applied to balance the distributions of key symptom variables, such as pain, urgency, and nocturnal voiding frequency.\n",
        "- This step minimizes the overall difference in health conditions between the matched groups, making them more comparable.\n",
        "\n",
        "### **Step 3: Statistical Analysis**\n",
        "- Once the matching process is complete, statistical tests are conducted to determine whether the treatment has had a significant effect.\n",
        "- The **Wilcoxon signed-rank test** is used to compare changes in symptoms between treated and untreated patients.\n",
        "- This helps determine whether any observed differences are due to the treatment itself rather than other factors.\n",
        "\n",
        "### **Step 4: Sensitivity Analysis**\n",
        "- Even with careful matching, observational studies can still be influenced by **hidden biases**—factors that were not measured but could affect the results.\n",
        "- A sensitivity analysis is performed to check how much unmeasured variables might impact the study’s conclusions.\n",
        "- This step helps assess the reliability of the findings and ensures that minor, unseen differences between the groups do not distort the results.\n",
        "\n",
        "---\n",
        "\n",
        "## **3. Summary of the Process**\n",
        "| **Step** | **Explanation** |\n",
        "|----------|---------------|\n",
        "| **1. Risk Set Matching** | Treated patients are paired with untreated individuals who have similar symptom histories. |\n",
        "| **2. Optimized Matching** | Advanced optimization techniques are used to ensure the best possible match. |\n",
        "| **3. Statistical Analysis** | Tests, such as the Wilcoxon signed-rank test, measure treatment effectiveness. |\n",
        "| **4. Sensitivity Analysis** | A check is performed to assess how much unmeasured factors might influence the results. |\n",
        "\n",
        "By following these steps, **Balanced Risk Set Matching (BRSM)** provides a more accurate and reliable way to analyze treatment effects in observational studies. It ensures that comparisons between treated and untreated patients are as fair as possible, making the findings more trustworthy.\n"
      ]
    },
    {
      "cell_type": "markdown",
      "metadata": {
        "id": "bo4Ziy8M1bMR"
      },
      "source": [
        "Imports"
      ]
    },
    {
      "cell_type": "code",
      "execution_count": null,
      "metadata": {
        "id": "VAXr3cXc1bMT"
      },
      "outputs": [],
      "source": [
        "import numpy as np\n",
        "import pandas as pd\n",
        "from scipy.spatial.distance import cdist\n",
        "from sklearn.preprocessing import StandardScaler\n",
        "from scipy.optimize import linear_sum_assignment\n",
        "from scipy.stats import wilcoxon\n",
        "import matplotlib.pyplot as plt\n",
        "import seaborn as sns"
      ]
    },
    {
      "cell_type": "markdown",
      "metadata": {
        "id": "O6HOo6Td1bMW"
      },
      "source": [
        "Step 1: Simulate Data"
      ]
    },
    {
      "cell_type": "code",
      "execution_count": null,
      "metadata": {
        "id": "Q4ukQWIT1bMW"
      },
      "outputs": [],
      "source": [
        "num_treated = 50\n",
        "num_controls = 150\n",
        "total_patients = num_treated + num_controls\n",
        "\n",
        "# Generate baseline symptom data\n",
        "symptom_pain = np.random.normal(loc=5, scale=2, size=total_patients).clip(0, 9)\n",
        "symptom_urgency = np.random.normal(loc=5, scale=1.5, size=total_patients).clip(0, 9)\n",
        "symptom_frequency = np.random.normal(loc=3, scale=1, size=total_patients).clip(0, 9)\n",
        "\n",
        "# Create treated and control groups\n",
        "treated_group = pd.DataFrame({\n",
        "    'patient_id': np.arange(num_treated),\n",
        "    'treatment_status': True,\n",
        "    'initial_pain': symptom_pain[:num_treated],\n",
        "    'initial_urgency': symptom_urgency[:num_treated],\n",
        "    'initial_frequency': symptom_frequency[:num_treated],\n",
        "    'pain_post_treatment': (symptom_pain[:num_treated] + np.random.normal(1, 0.5, num_treated)).clip(0, 9),\n",
        "    'urgency_post_treatment': (symptom_urgency[:num_treated] + np.random.normal(1, 0.5, num_treated)).clip(0, 9),\n",
        "    'frequency_post_treatment': (symptom_frequency[:num_treated] + np.random.normal(1, 0.5, num_treated)).clip(0, 9),\n",
        "})\n",
        "\n",
        "control_group = pd.DataFrame({\n",
        "    'patient_id': np.arange(num_treated, total_patients),\n",
        "    'treatment_status': False,\n",
        "    'initial_pain': symptom_pain[num_treated:],\n",
        "    'initial_urgency': symptom_urgency[num_treated:],\n",
        "    'initial_frequency': symptom_frequency[num_treated:],\n",
        "    'pain_post_treatment': (symptom_pain[num_treated:] + np.random.normal(0, 0.3, num_controls)).clip(0, 9),\n",
        "    'urgency_post_treatment': (symptom_urgency[num_treated:] + np.random.normal(0, 0.3, num_controls)).clip(0, 9),\n",
        "    'frequency_post_treatment': (symptom_frequency[num_treated:] + np.random.normal(0, 0.3, num_controls)).clip(0, 9),\n",
        "})\n",
        "\n",
        "# Simulate post-treatment outcomes at 3 and 6 months\n",
        "def simulate_treatment_effect(base_val, effect_size, decay):\n",
        "    return (\n",
        "        np.clip(base_val - effect_size + np.random.normal(0, 1, len(base_val)), 0, 9),\n",
        "        np.clip(base_val - (effect_size * decay) + np.random.normal(0, 1, len(base_val)), 0, 9)\n",
        "    )\n",
        "\n",
        "treated_group['pain_3months'], treated_group['pain_6months'] = simulate_treatment_effect(treated_group['pain_post_treatment'], 1, 0.8)\n",
        "treated_group['urgency_3months'], treated_group['urgency_6months'] = simulate_treatment_effect(treated_group['urgency_post_treatment'], 1, 0.8)\n",
        "treated_group['frequency_3months'], treated_group['frequency_6months'] = simulate_treatment_effect(treated_group['frequency_post_treatment'], 1, 0.8)\n",
        "\n",
        "control_group['pain_3months'] = np.clip(control_group['pain_post_treatment'] + np.random.normal(0, 0.5, len(control_group)), 0, 9)\n",
        "control_group['pain_6months'] = np.clip(control_group['pain_3months'] + np.random.normal(0, 0.5, len(control_group)), 0, 9)\n",
        "control_group['urgency_3months'] = np.clip(control_group['urgency_post_treatment'] + np.random.normal(0, 0.5, len(control_group)), 0, 9)\n",
        "control_group['urgency_6months'] = np.clip(control_group['urgency_3months'] + np.random.normal(0, 0.5, len(control_group)), 0, 9)\n",
        "control_group['frequency_3months'] = np.clip(control_group['frequency_post_treatment'] + np.random.normal(0, 0.5, len(control_group)), 0, 9)\n",
        "control_group['frequency_6months'] = np.clip(control_group['frequency_3months'] + np.random.normal(0, 0.5, len(control_group)), 0, 9)\n",
        "\n",
        "combined_data = pd.concat([treated_group, control_group], ignore_index=True)"
      ]
    },
    {
      "cell_type": "markdown",
      "metadata": {
        "id": "om1o_Sfi1bMX"
      },
      "source": [
        "Step 2: Compute Mahalanobis Distance"
      ]
    },
    {
      "cell_type": "code",
      "execution_count": null,
      "metadata": {
        "id": "rlRNcaMG1bMX"
      },
      "outputs": [],
      "source": [
        "def calculate_mahalanobis(treated_df, control_df):\n",
        "    columns_of_interest = ['initial_pain', 'initial_urgency', 'initial_frequency']\n",
        "    normalizer = StandardScaler()\n",
        "    combined_dataset = normalizer.fit_transform(pd.concat([treated_df[columns_of_interest], control_df[columns_of_interest]]))\n",
        "\n",
        "    treated_normalized = combined_dataset[:len(treated_df)]\n",
        "    control_normalized = combined_dataset[len(treated_df):]\n",
        "    inv_cov_matrix = np.linalg.pinv(np.cov(combined_dataset.T))\n",
        "\n",
        "    mahalanobis_distances = cdist(treated_normalized, control_normalized, metric='mahalanobis', VI=inv_cov_matrix)\n",
        "    return mahalanobis_distances\n",
        "\n",
        "distance_matrix = calculate_mahalanobis(treated_group, control_group)\n"
      ]
    },
    {
      "cell_type": "markdown",
      "metadata": {
        "id": "1cp4J68T1bMY"
      },
      "source": [
        "Step 3: Matching Patients\n"
      ]
    },
    {
      "cell_type": "code",
      "execution_count": null,
      "metadata": {
        "id": "0TI2Ftjg1bMY"
      },
      "outputs": [],
      "source": [
        "def match_patients(distance_matrix):\n",
        "    row_indices, col_indices = linear_sum_assignment(distance_matrix)\n",
        "    matched_pairs = list(zip(row_indices, col_indices))\n",
        "    return matched_pairs\n",
        "\n",
        "matched_pairs = match_patients(distance_matrix)"
      ]
    },
    {
      "cell_type": "markdown",
      "metadata": {
        "id": "B3cXi8r31bMZ"
      },
      "source": [
        "Step 4: Performing Wilcoxon Test"
      ]
    },
    {
      "cell_type": "code",
      "source": [
        "def perform_wilcoxon_test(df, matched_pairs):\n",
        "    treated_outcomes = [df.loc[df['patient_id'] == treated, 'pain_post_treatment'].values[0] for treated, control in matched_pairs]\n",
        "    control_outcomes = [df.loc[df['patient_id'] == control, 'pain_post_treatment'].values[0] for treated, control in matched_pairs]\n",
        "\n",
        "    if np.all(np.array(treated_outcomes) == np.array(control_outcomes)):\n",
        "        return 0, 1.0  # No difference, p-value is 1\n",
        "    else:\n",
        "        statistic, p_value = wilcoxon(treated_outcomes, control_outcomes)\n",
        "        return statistic, p_value\n",
        "\n",
        "wilcoxon_stat, p_value = perform_wilcoxon_test(combined_data, matched_pairs)\n",
        "print(f\"Wilcoxon test statistic: {wilcoxon_stat}, P-value: {p_value}\")"
      ],
      "metadata": {
        "id": "JbFKyDtcMBuh"
      },
      "execution_count": null,
      "outputs": []
    },
    {
      "cell_type": "markdown",
      "metadata": {
        "id": "BTe2xC431bMa"
      },
      "source": [
        "Step 5: Conducting Sensitivity Analysis"
      ]
    },
    {
      "cell_type": "code",
      "source": [
        "def sensitivity_analysis(df, matched_pairs, gamma_values):\n",
        "    analysis_results = []\n",
        "    for gamma in gamma_values:\n",
        "        adjusted_treated_scores = [\n",
        "            df.loc[df['patient_id'] == treated, 'pain_post_treatment'].values[0] * (1 + gamma)\n",
        "            for treated, control in matched_pairs\n",
        "        ]\n",
        "        control_scores = [df.loc[df['patient_id'] == control, 'pain_post_treatment'].values[0] for treated, control in matched_pairs]\n",
        "        statistic, p_value = wilcoxon(adjusted_treated_scores, control_scores)\n",
        "        analysis_results.append((gamma, p_value))\n",
        "    return analysis_results\n",
        "\n",
        "gamma_values = np.linspace(0, 1, 10)\n",
        "sensitivity_results = sensitivity_analysis(combined_data, matched_pairs, gamma_values)\n",
        "print(\"Sensitivity Analysis Results:\")\n",
        "for gamma, p_val in sensitivity_results:\n",
        "    print(f\"Gamma: {gamma:.2f}, P-value: {p_val:.4f}\")"
      ],
      "metadata": {
        "id": "P2lpsMnIMIS_"
      },
      "execution_count": null,
      "outputs": []
    },
    {
      "cell_type": "markdown",
      "metadata": {
        "id": "I0V2aoHz1bMb"
      },
      "source": [
        "Step 6: Visualizing Treatment Outcomes"
      ]
    },
    {
      "cell_type": "code",
      "source": [
        "def create_variable_plots(variable, axis_labels):\n",
        "    plt.figure(figsize=(12, 6))\n",
        "\n",
        "    time_points = ['baseline', 'at_t', '3mo', '6mo']\n",
        "    labels = ['Baseline', 'Treatment Time', '3 Months', '6 Months']\n",
        "\n",
        "    # Correct column names\n",
        "    time_point_columns = [\n",
        "        f'initial_{variable}', f'{variable}_post_treatment',\n",
        "        f'{variable}_3months', f'{variable}_6months'\n",
        "    ]\n",
        "\n",
        "    # Ensure columns exist before plotting\n",
        "    for col in time_point_columns:\n",
        "        if col not in treated_group.columns or col not in control_group.columns:\n",
        "            print(f\"Warning: {col} is missing from data.\")\n",
        "            return\n",
        "\n",
        "    treated_values = [treated_group[col].values for col in time_point_columns]\n",
        "    control_values = [control_group[col].values for col in time_point_columns]\n",
        "\n",
        "    for i in range(4):\n",
        "        plt.subplot(2, 2, i+1)\n",
        "        sns.boxplot(data=[treated_values[i], control_values[i]], palette=[\"blue\", \"red\"])\n",
        "        plt.xticks([0, 1], [\"Treated\", \"Control\"])\n",
        "        plt.title(f\"{axis_labels} - {labels[i]}\")\n",
        "        plt.grid(True, alpha=0.3)\n",
        "\n",
        "    plt.tight_layout()\n",
        "    plt.show()\n",
        "\n",
        "# Call the function again\n",
        "create_variable_plots('pain', 'Pain Score')\n",
        "create_variable_plots('urgency', 'Urgency Score')\n",
        "create_variable_plots('frequency', 'Nocturnal Frequency')"
      ],
      "metadata": {
        "id": "hPa9sX2WML6W"
      },
      "execution_count": null,
      "outputs": []
    },
    {
      "cell_type": "markdown",
      "source": [],
      "metadata": {
        "id": "o7jxLvSKN2Km"
      }
    },
    {
      "cell_type": "markdown",
      "metadata": {
        "id": "cj_qrgGz1bMb"
      },
      "source": [
        "# Interpretation of Wilcoxon Test and Sensitivity Analysis Results\n",
        "\n",
        "## 1. Wilcoxon Signed-Rank Test Interpretation\n",
        "\n",
        "### Test Statistic: 559.0  \n",
        "### P-value: 0.4548  \n",
        "\n",
        "### Interpretation:\n",
        "- The Wilcoxon test compares symptom scores before and after treatment in matched pairs.\n",
        "- A high p-value (0.4548) indicates no statistically significant difference between treated and control patients.\n",
        "- This suggests that the treatment did not have a strong effect on symptoms in the synthetic dataset.\n",
        "\n",
        "### Key Takeaway:\n",
        "- The synthetic treatment does not show a clear improvement over the control group.\n",
        "\n",
        "---\n",
        "\n",
        "## 2. Sensitivity Analysis Interpretation\n",
        "\n",
        "| Gamma  | P-value  | Interpretation  |\n",
        "|------------|-------------|---------------------|\n",
        "| 0.00   | 0.4548  | No bias assumed; treatment effect not significant. |\n",
        "| 0.11   | 0.0181  | Small bias makes results significant. |\n",
        "| 0.22   | 0.0001  | Moderate bias makes results very significant. |\n",
        "| ≥ 0.33 | 0.0000  | Strong bias makes results extremely significant. |\n",
        "\n",
        "### Interpretation:\n",
        "- Without bias (Gamma = 0.00), the treatment shows no significant effect (p = 0.4548).\n",
        "- With small bias (Gamma = 0.11), results become significant (p = 0.0181).\n",
        "- With moderate to strong bias (Gamma ≥ 0.22), results are highly significant (p < 0.0001).\n",
        "\n",
        "### **Balanced Risk Set Matching Interpretation**\n",
        "\n",
        "## **1. Understanding the Implementation**\n",
        "In this implementation, we analyze the effects of a medical treatment using **Balanced Risk Set Matching (BRSM)**. The goal is to ensure that treated and untreated patients are as comparable as possible, allowing us to assess the treatment’s effectiveness with minimal bias.\n",
        "\n",
        "This process follows six key steps:\n",
        "\n",
        "---\n",
        "\n",
        "## **2. Simulating Patient Data**\n",
        "- We create two patient groups:\n",
        "  - **Treated group (50 patients):** Patients who receive treatment.\n",
        "  - **Control group (150 patients):** Patients who do not receive treatment.\n",
        "- Three symptom variables are generated for each patient:\n",
        "  - **Pain, urgency, and nocturnal frequency** are drawn from normal distributions to simulate real-world variability.\n",
        "- **Post-treatment outcomes are simulated** to reflect changes over time:\n",
        "  - Treated patients are expected to experience gradual improvement.\n",
        "  - Control patients do not receive treatment, so their symptoms remain mostly unchanged.\n",
        "\n",
        "---\n",
        "\n",
        "## **3. Calculating Mahalanobis Distance**\n",
        "- To ensure proper matching, we measure how similar patients are using **Mahalanobis distance**.\n",
        "- Data is standardized using `StandardScaler`, and distances are computed between treated and control patients based on their **initial symptom values**.\n",
        "\n",
        "---\n",
        "\n",
        "## **4. Matching Patients**\n",
        "- **The Hungarian Algorithm (`linear_sum_assignment`)** is applied to match each treated patient with the most similar control patient.\n",
        "- This ensures that comparisons are made between individuals who had similar symptom profiles before treatment.\n",
        "\n",
        "---\n",
        "\n",
        "## **5. Statistical Analysis (Wilcoxon Test)**\n",
        "- After matching, we analyze treatment effectiveness using the **Wilcoxon signed-rank test**.\n",
        "- This non-parametric test compares **post-treatment symptom scores** between the matched treated and control patients.\n",
        "- A statistically significant result would indicate that the treatment had a measurable effect.\n",
        "\n",
        "---\n",
        "\n",
        "## **6. Sensitivity Analysis**\n",
        "- Since observational studies can be influenced by **hidden biases**, we conduct a **sensitivity analysis**.\n",
        "- We test the robustness of our findings by introducing a range of **γ-values (bias factors)** to adjust post-treatment scores.\n",
        "- If the results remain consistent across different γ-values, it suggests that the treatment effects are **not highly sensitive to unmeasured confounders**.\n",
        "\n",
        "---\n",
        "\n",
        "## **7. Visualization of Treatment Effects**\n",
        "- To better understand the impact of treatment, we generate **boxplots** showing symptom changes at different time points:\n",
        "  - **Baseline (before treatment)**\n",
        "  - **Immediately after treatment**\n",
        "  - **Three months post-treatment**\n",
        "  - **Six months post-treatment**\n",
        "- These visualizations help illustrate whether the treatment led to noticeable improvements compared to the control group.\n",
        "\n",
        "---\n",
        "\n",
        "## **8. Conclusion**\n",
        "This approach provides a structured way to analyze treatment effects in observational studies. By carefully matching patients, performing statistical tests, and checking for bias, we can draw more reliable conclusions about whether a treatment is effective.\n",
        "\n",
        "The **Balanced Risk Set Matching (BRSM) methodology** ensures that comparisons are fair, results are robust, and the impact of potential confounders is minimized, making it a valuable tool for clinical research.\n",
        "\n",
        "\n"
      ]
    }
  ],
  "metadata": {
    "kernelspec": {
      "display_name": "base",
      "language": "python",
      "name": "python3"
    },
    "language_info": {
      "codemirror_mode": {
        "name": "ipython",
        "version": 3
      },
      "file_extension": ".py",
      "mimetype": "text/x-python",
      "name": "python",
      "nbconvert_exporter": "python",
      "pygments_lexer": "ipython3",
      "version": "3.11.7"
    },
    "colab": {
      "provenance": []
    }
  },
  "nbformat": 4,
  "nbformat_minor": 0
}